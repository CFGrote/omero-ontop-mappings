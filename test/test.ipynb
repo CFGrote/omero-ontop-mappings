{
 "cells": [
  {
   "cell_type": "markdown",
   "id": "2b79e8aa-994f-43f9-afa0-5c709dea3095",
   "metadata": {
    "user_expressions": []
   },
   "source": [
    "# Dev notebook for testing sparql queries against the ontop endpoint running on mapped omero.\n",
    "\n",
    "This notebook is not part of the test suite but for developing tests. Move tests to\n",
    "test_queries.py once ready for testing."
   ]
  },
  {
   "cell_type": "code",
   "execution_count": 1,
   "id": "66d336f0-fa7c-494e-8339-fd35a8cecce0",
   "metadata": {},
   "outputs": [],
   "source": [
    "from rdflib import Graph"
   ]
  },
  {
   "cell_type": "code",
   "execution_count": 7,
   "id": "6eee838c-f46e-41e7-9883-bb25a0204eb4",
   "metadata": {},
   "outputs": [
    {
     "name": "stdout",
     "output_type": "stream",
     "text": [
      "https://ome.evolbio.mpg.de/api/v0/m/Dataset/9\n",
      "https://ome.evolbio.mpg.de/api/v0/m/Dataset/3\n",
      "https://ome.evolbio.mpg.de/api/v0/m/Dataset/5\n"
     ]
    }
   ],
   "source": [
    "g = Graph()\n",
    "qres = g.query(\n",
    "    \"\"\"\n",
    "    prefix mpieb: <https://ome.evolbio.mpg.de/api/v0/m/> \n",
    "    prefix ome_core: <http://www.openmicroscopy.org/rdf/2016-06/ome_core/>\n",
    "    SELECT * WHERE {\n",
    "      SERVICE <http://localhost:8080/sparql> {\n",
    "        ?ds a ome_core:Dataset .\n",
    "      }\n",
    "    }\n",
    "    LIMIT 3\n",
    "    \"\"\"\n",
    ")\n",
    "\n",
    "for row in qres:\n",
    "    print(row.ds)"
   ]
  },
  {
   "cell_type": "code",
   "execution_count": 8,
   "id": "1e1a1f34-dc33-47ac-adf8-524626997fec",
   "metadata": {},
   "outputs": [],
   "source": [
    "assert len(qres) == 3"
   ]
  }
 ],
 "metadata": {
  "kernelspec": {
   "display_name": "bio",
   "language": "python",
   "name": "bio"
  },
  "language_info": {
   "codemirror_mode": {
    "name": "ipython",
    "version": 3
   },
   "file_extension": ".py",
   "mimetype": "text/x-python",
   "name": "python",
   "nbconvert_exporter": "python",
   "pygments_lexer": "ipython3",
   "version": "3.10.14"
  },
  "widgets": {
   "application/vnd.jupyter.widget-state+json": {
    "state": {},
    "version_major": 2,
    "version_minor": 0
   }
  }
 },
 "nbformat": 4,
 "nbformat_minor": 5
}
